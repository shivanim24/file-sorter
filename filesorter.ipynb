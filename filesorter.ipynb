{
 "cells": [
  {
   "cell_type": "code",
   "execution_count": 1,
   "id": "d2b74414",
   "metadata": {},
   "outputs": [],
   "source": [
    "import os,shutil"
   ]
  },
  {
   "cell_type": "code",
   "execution_count": 11,
   "id": "6fad6325",
   "metadata": {},
   "outputs": [],
   "source": [
    "path=r\"C:/Users/DELL/OneDrive - PDPM IIITDM Jabalpur/Documents/File_sorter/\""
   ]
  },
  {
   "cell_type": "code",
   "execution_count": 24,
   "id": "5009d3b6",
   "metadata": {},
   "outputs": [],
   "source": [
    "file_names=os.listdir(path)"
   ]
  },
  {
   "cell_type": "code",
   "execution_count": 19,
   "id": "e468324a",
   "metadata": {},
   "outputs": [
    {
     "data": {
      "text/plain": [
       "False"
      ]
     },
     "execution_count": 19,
     "metadata": {},
     "output_type": "execute_result"
    }
   ],
   "source": [
    "os.path.exists(path+'csv files')"
   ]
  },
  {
   "cell_type": "code",
   "execution_count": 20,
   "id": "25f801e1",
   "metadata": {},
   "outputs": [
    {
     "data": {
      "text/plain": [
       "True"
      ]
     },
     "execution_count": 20,
     "metadata": {},
     "output_type": "execute_result"
    }
   ],
   "source": [
    "os.path.exists(path+'xlsx files')"
   ]
  },
  {
   "cell_type": "code",
   "execution_count": 21,
   "id": "d207c815",
   "metadata": {},
   "outputs": [],
   "source": [
    "folder_names=['xlsx files','png files','pdf files']"
   ]
  },
  {
   "cell_type": "code",
   "execution_count": 26,
   "id": "957fe907",
   "metadata": {},
   "outputs": [],
   "source": [
    "for loop in range(0,3):\n",
    "    if not os.path.exists(path+folder_names[loop]):\n",
    "        print(path+folder_names[loop])\n",
    "        os.makedirs(path+folder_names[loop])"
   ]
  },
  {
   "cell_type": "code",
   "execution_count": 34,
   "id": "76b21c14",
   "metadata": {},
   "outputs": [],
   "source": [
    "for file in file_names:\n",
    "    if \".xlsx\" in file and not os.path.exists(path+\"xlsx files/\"+file):\n",
    "        shutil.move(path+file,path+\"xlsx files/\"+file)\n",
    "    elif \".png\" in file and not os.path.exists(path+\"png files/\"+file):\n",
    "        shutil.move(path+file,path+\"png files/\"+file)\n",
    "    elif \".pdf\" in file and not os.path.exists(path+\"pdf files/\"+file):\n",
    "        shutil.move(path+file,path+\"pdf files/\"+file)\n",
    "   "
   ]
  },
  {
   "cell_type": "code",
   "execution_count": null,
   "id": "935cb852",
   "metadata": {},
   "outputs": [],
   "source": []
  }
 ],
 "metadata": {
  "kernelspec": {
   "display_name": "Python 3 (ipykernel)",
   "language": "python",
   "name": "python3"
  },
  "language_info": {
   "codemirror_mode": {
    "name": "ipython",
    "version": 3
   },
   "file_extension": ".py",
   "mimetype": "text/x-python",
   "name": "python",
   "nbconvert_exporter": "python",
   "pygments_lexer": "ipython3",
   "version": "3.11.5"
  }
 },
 "nbformat": 4,
 "nbformat_minor": 5
}
